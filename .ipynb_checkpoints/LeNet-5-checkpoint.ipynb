{
 "cells": [
  {
   "cell_type": "code",
   "execution_count": 1,
   "id": "liable-passage",
   "metadata": {},
   "outputs": [],
   "source": [
    "# TODO: 1. 랜덤 입력 값 작성(배치 1, 32x32, 채널 3)\n",
    "# TODO: 2. Conv2D, MaxPool2D, Dense 파라미터 LeNet-5 모델에 맞게\n",
    "# TODO: 3. 하나 돌리고 shaphe 출력하면서 흐름 파악\n",
    "# 심화1) keras.datasets에서 제공하는 mnist 적용\n",
    "# 심화2) 옵티마이저와 로스 설정하여 실제 모델 학습\n",
    "# 심화3) 학습한 모델 성능 확인하기 위해 evaluate\n",
    "# 심화4) 정확도 및 loss 그래프로 나타내기"
   ]
  },
  {
   "cell_type": "markdown",
   "id": "liable-shuttle",
   "metadata": {},
   "source": [
    "![image](https://user-images.githubusercontent.com/47033052/109135835-db216580-779a-11eb-9e8f-7db4fef02fe5.png)\n"
   ]
  },
  {
   "cell_type": "code",
   "execution_count": 7,
   "id": "specified-singing",
   "metadata": {},
   "outputs": [],
   "source": [
    "# prefix\n",
    "import numpy as np\n",
    "import tensorflow as tf\n",
    "import matplotlib.pyplot as plt"
   ]
  },
  {
   "cell_type": "code",
   "execution_count": 8,
   "id": "certified-excess",
   "metadata": {},
   "outputs": [
    {
     "name": "stdout",
     "output_type": "stream",
     "text": [
      "Downloading data from https://storage.googleapis.com/tensorflow/tf-keras-datasets/mnist.npz\n",
      "11493376/11490434 [==============================] - 0s 0us/step\n"
     ]
    }
   ],
   "source": [
    "# mnist\n",
    "mnist = tf.keras.datasets.mnist\n",
    "(x_train, y_train), (x_test, y_test) = mnist.load_data()"
   ]
  },
  {
   "cell_type": "code",
   "execution_count": 9,
   "id": "impressed-henry",
   "metadata": {},
   "outputs": [],
   "source": [
    "rows, cols = 28, 28\n",
    "\n",
    "x_train = x_train.reshape(x_train.shape[0], rows, cols, 1)\n",
    "x_test = x_test.reshape(x_test.shape[0], rows, cols, 1)\n",
    "\n",
    "input_shape = (rows, cols, 1)"
   ]
  },
  {
   "cell_type": "code",
   "execution_count": 11,
   "id": "infrared-stress",
   "metadata": {},
   "outputs": [],
   "source": [
    "# 정규화\n",
    "x_train = x_train.astype('float32')\n",
    "x_test = x_test.astype('float32')\n",
    "x_train = x_train / 255.0\n",
    "x_test = x_test / 255.0\n",
    "\n",
    "# one-hot 인코딩\n",
    "y_train = tf.keras.utils.to_categorical(y_train, 10)\n",
    "y_test = tf.keras.utils.to_categorical(y_test, 10)"
   ]
  },
  {
   "cell_type": "code",
   "execution_count": 12,
   "id": "stable-actor",
   "metadata": {},
   "outputs": [],
   "source": [
    "# 모델 구현\n",
    "# 컨볼루션\n",
    "model = tf.keras.Sequential()\n",
    "model.add(tf.keras.layers.Conv2D(filters=6,\n",
    "                                kernel_size=(5,5),\n",
    "                                strides=(1,1),\n",
    "                                activation='tanh',\n",
    "                                input_shape=input_shape))"
   ]
  },
  {
   "cell_type": "code",
   "execution_count": 13,
   "id": "allied-style",
   "metadata": {},
   "outputs": [],
   "source": [
    "# SupSampling\n",
    "model.add(tf.keras.layers.AveragePooling2D(pool_size=(2,2),\n",
    "                                          strides=(2,2)))"
   ]
  },
  {
   "cell_type": "code",
   "execution_count": 14,
   "id": "conventional-spelling",
   "metadata": {},
   "outputs": [],
   "source": [
    "# 컨볼루션\n",
    "model.add(tf.keras.layers.Conv2D(filters=16,\n",
    "                                kernel_size=(5,5),\n",
    "                                strides=(1,1),\n",
    "                                activation='tanh'))"
   ]
  },
  {
   "cell_type": "code",
   "execution_count": 15,
   "id": "unable-floating",
   "metadata": {},
   "outputs": [],
   "source": [
    "# SupSampling\n",
    "model.add(tf.keras.layers.AveragePooling2D(pool_size=(2,2),\n",
    "                                          strides=(2,2)))"
   ]
  },
  {
   "cell_type": "code",
   "execution_count": 18,
   "id": "proud-fisher",
   "metadata": {},
   "outputs": [],
   "source": [
    "# 펼치기\n",
    "model.add(tf.keras.layers.Flatten())\n",
    "\n",
    "# dense\n",
    "model.add(tf.keras.layers.Dense(units=120, activation='tanh'))"
   ]
  },
  {
   "cell_type": "code",
   "execution_count": 20,
   "id": "narrow-flashing",
   "metadata": {},
   "outputs": [],
   "source": [
    "# 펼치기\n",
    "model.add(tf.keras.layers.Flatten())\n",
    "\n",
    "# dense\n",
    "model.add(tf.keras.layers.Dense(units=84, activation='tanh'))                                                                                                                                   "
   ]
  },
  {
   "cell_type": "code",
   "execution_count": 21,
   "id": "proprietary-information",
   "metadata": {},
   "outputs": [],
   "source": [
    "# output layer\n",
    "model.add(tf.keras.layers.Dense(units=10, activation='softmax'))\n",
    "\n",
    "model.compile(loss='categorical_crossentropy', optimizer=tf.keras.optimizers.SGD(lr=0.1, \n",
    "                                                                                 momentum=0.0, \n",
    "                                                                                 decay=0.0),\n",
    "             metrics=['accuracy'])"
   ]
  },
  {
   "cell_type": "code",
   "execution_count": 28,
   "id": "incorporate-purchase",
   "metadata": {},
   "outputs": [
    {
     "name": "stdout",
     "output_type": "stream",
     "text": [
      "Epoch 1/10\n",
      "235/235 [==============================] - 6s 25ms/step - loss: 2.3151 - accuracy: 0.1023\n",
      "Epoch 2/10\n",
      "235/235 [==============================] - 6s 25ms/step - loss: 2.3157 - accuracy: 0.1021\n",
      "Epoch 3/10\n",
      "235/235 [==============================] - 6s 25ms/step - loss: 2.3136 - accuracy: 0.1030\n",
      "Epoch 4/10\n",
      "235/235 [==============================] - 6s 25ms/step - loss: 2.3143 - accuracy: 0.1036\n",
      "Epoch 5/10\n",
      "235/235 [==============================] - 6s 25ms/step - loss: 2.3137 - accuracy: 0.1023\n",
      "Epoch 6/10\n",
      "235/235 [==============================] - 6s 25ms/step - loss: 2.3144 - accuracy: 0.1020\n",
      "Epoch 7/10\n",
      "235/235 [==============================] - 6s 25ms/step - loss: 2.3149 - accuracy: 0.1021\n",
      "Epoch 8/10\n",
      "235/235 [==============================] - 6s 25ms/step - loss: 2.3142 - accuracy: 0.1015\n",
      "Epoch 9/10\n",
      "235/235 [==============================] - 6s 24ms/step - loss: 2.3144 - accuracy: 0.1028\n",
      "Epoch 10/10\n",
      "235/235 [==============================] - 6s 26ms/step - loss: 2.3152 - accuracy: 0.1010\n"
     ]
    }
   ],
   "source": [
    "hist = model.fit(x_train, y_train, batch_size=256, epochs=10, verbose=1)"
   ]
  },
  {
   "cell_type": "code",
   "execution_count": null,
   "id": "dietary-warrior",
   "metadata": {},
   "outputs": [],
   "source": []
  }
 ],
 "metadata": {
  "kernelspec": {
   "display_name": "Python 3",
   "language": "python",
   "name": "python3"
  },
  "language_info": {
   "codemirror_mode": {
    "name": "ipython",
    "version": 3
   },
   "file_extension": ".py",
   "mimetype": "text/x-python",
   "name": "python",
   "nbconvert_exporter": "python",
   "pygments_lexer": "ipython3",
   "version": "3.8.2"
  }
 },
 "nbformat": 4,
 "nbformat_minor": 5
}
