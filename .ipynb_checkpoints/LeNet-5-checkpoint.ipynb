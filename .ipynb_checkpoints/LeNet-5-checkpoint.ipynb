{
 "cells": [
  {
   "cell_type": "code",
   "execution_count": 1,
   "id": "liable-passage",
   "metadata": {},
   "outputs": [],
   "source": [
    "# TODO: 1. 랜덤 입력 값 작성(배치 1, 32x32, 채널 3)\n",
    "# TODO: 2. Conv2D, MaxPool2D, Dense 파라미터 LeNet-5 모델에 맞게\n",
    "# TODO: 3. 하나 돌리고 shaphe 출력하면서 흐름 파악\n",
    "# 심화1) keras.datasets에서 제공하는 mnist 적용\n",
    "# 심화2) 옵티마이저와 로스 설정하여 실제 모델 학습\n",
    "# 심화3) 학습한 모델 성능 확인하기 위해 evaluate\n",
    "# 심화4) 정확도 및 loss 그래프로 나타내기"
   ]
  },
  {
   "cell_type": "markdown",
   "id": "liable-shuttle",
   "metadata": {},
   "source": [
    "![image](https://user-images.githubusercontent.com/47033052/109135835-db216580-779a-11eb-9e8f-7db4fef02fe5.png)\n"
   ]
  },
  {
   "cell_type": "code",
   "execution_count": 1,
   "id": "specified-singing",
   "metadata": {},
   "outputs": [],
   "source": [
    "# prefix\n",
    "import numpy as np\n",
    "import tensorflow as tf\n",
    "import matplotlib.pyplot as plt"
   ]
  },
  {
   "cell_type": "code",
   "execution_count": 2,
   "id": "certified-excess",
   "metadata": {},
   "outputs": [],
   "source": [
    "# mnist\n",
    "mnist = tf.keras.datasets.mnist\n",
    "(x_train, y_train), (x_test, y_test) = mnist.load_data()"
   ]
  },
  {
   "cell_type": "code",
   "execution_count": 3,
   "id": "impressed-henry",
   "metadata": {},
   "outputs": [],
   "source": [
    "rows, cols = 28, 28\n",
    "\n",
    "x_train = x_train.reshape(x_train.shape[0], rows, cols, 1)\n",
    "x_test = x_test.reshape(x_test.shape[0], rows, cols, 1)\n",
    "\n",
    "input_shape = (rows, cols, 1)"
   ]
  },
  {
   "cell_type": "code",
   "execution_count": 4,
   "id": "infrared-stress",
   "metadata": {},
   "outputs": [],
   "source": [
    "# 정규화\n",
    "x_train = x_train.astype('float32')\n",
    "x_test = x_test.astype('float32')\n",
    "x_train = x_train / 255.0\n",
    "x_test = x_test / 255.0\n",
    "\n",
    "# one-hot 인코딩\n",
    "y_train = tf.keras.utils.to_categorical(y_train, 10)\n",
    "y_test = tf.keras.utils.to_categorical(y_test, 10)"
   ]
  },
  {
   "cell_type": "code",
   "execution_count": 5,
   "id": "stable-actor",
   "metadata": {},
   "outputs": [],
   "source": [
    "# 모델 구현\n",
    "# 컨볼루션\n",
    "model = tf.keras.Sequential()\n",
    "model.add(tf.keras.layers.Conv2D(filters=6,\n",
    "                                kernel_size=(5,5),\n",
    "                                strides=(1,1),\n",
    "                                activation='tanh',\n",
    "                                input_shape=input_shape))"
   ]
  },
  {
   "cell_type": "code",
   "execution_count": 6,
   "id": "allied-style",
   "metadata": {},
   "outputs": [],
   "source": [
    "# SupSampling\n",
    "model.add(tf.keras.layers.AveragePooling2D(pool_size=(2,2),\n",
    "                                          strides=(2,2)))"
   ]
  },
  {
   "cell_type": "code",
   "execution_count": 7,
   "id": "conventional-spelling",
   "metadata": {},
   "outputs": [],
   "source": [
    "# 컨볼루션\n",
    "model.add(tf.keras.layers.Conv2D(filters=16,\n",
    "                                kernel_size=(5,5),\n",
    "                                strides=(1,1),\n",
    "                                activation='tanh'))"
   ]
  },
  {
   "cell_type": "code",
   "execution_count": 8,
   "id": "unable-floating",
   "metadata": {},
   "outputs": [],
   "source": [
    "# SupSampling\n",
    "model.add(tf.keras.layers.AveragePooling2D(pool_size=(2,2),\n",
    "                                          strides=(2,2)))"
   ]
  },
  {
   "cell_type": "code",
   "execution_count": 9,
   "id": "proud-fisher",
   "metadata": {},
   "outputs": [],
   "source": [
    "# 펼치기\n",
    "model.add(tf.keras.layers.Flatten())\n",
    "\n",
    "# dense\n",
    "model.add(tf.keras.layers.Dense(units=120, activation='tanh'))"
   ]
  },
  {
   "cell_type": "code",
   "execution_count": 10,
   "id": "narrow-flashing",
   "metadata": {},
   "outputs": [],
   "source": [
    "# 펼치기\n",
    "model.add(tf.keras.layers.Flatten())\n",
    "\n",
    "# dense\n",
    "model.add(tf.keras.layers.Dense(units=84, activation='tanh'))                                                                                                                                   "
   ]
  },
  {
   "cell_type": "code",
   "execution_count": 11,
   "id": "proprietary-information",
   "metadata": {},
   "outputs": [],
   "source": [
    "# output layer\n",
    "model.add(tf.keras.layers.Dense(units=10, activation='softmax'))\n",
    "\n",
    "model.compile(loss='categorical_crossentropy', optimizer=tf.keras.optimizers.SGD(lr=0.1, \n",
    "                                                                                 momentum=0.0, \n",
    "                                                                                 decay=0.0),\n",
    "             metrics=['accuracy'])"
   ]
  },
  {
   "cell_type": "code",
   "execution_count": 13,
   "id": "anonymous-sustainability",
   "metadata": {},
   "outputs": [
    {
     "name": "stdout",
     "output_type": "stream",
     "text": [
      "Model: \"sequential\"\n",
      "_________________________________________________________________\n",
      "Layer (type)                 Output Shape              Param #   \n",
      "=================================================================\n",
      "conv2d (Conv2D)              (None, 24, 24, 6)         156       \n",
      "_________________________________________________________________\n",
      "average_pooling2d (AveragePo (None, 12, 12, 6)         0         \n",
      "_________________________________________________________________\n",
      "conv2d_1 (Conv2D)            (None, 8, 8, 16)          2416      \n",
      "_________________________________________________________________\n",
      "average_pooling2d_1 (Average (None, 4, 4, 16)          0         \n",
      "_________________________________________________________________\n",
      "flatten (Flatten)            (None, 256)               0         \n",
      "_________________________________________________________________\n",
      "dense (Dense)                (None, 120)               30840     \n",
      "_________________________________________________________________\n",
      "flatten_1 (Flatten)          (None, 120)               0         \n",
      "_________________________________________________________________\n",
      "dense_1 (Dense)              (None, 84)                10164     \n",
      "_________________________________________________________________\n",
      "dense_2 (Dense)              (None, 10)                850       \n",
      "=================================================================\n",
      "Total params: 44,426\n",
      "Trainable params: 44,426\n",
      "Non-trainable params: 0\n",
      "_________________________________________________________________\n"
     ]
    }
   ],
   "source": [
    "model.summary()"
   ]
  },
  {
   "cell_type": "code",
   "execution_count": 12,
   "id": "incorporate-purchase",
   "metadata": {},
   "outputs": [
    {
     "name": "stdout",
     "output_type": "stream",
     "text": [
      "Epoch 1/10\n",
      "235/235 [==============================] - 6s 26ms/step - loss: 0.9525 - accuracy: 0.7281\n",
      "Epoch 2/10\n",
      "235/235 [==============================] - 6s 26ms/step - loss: 0.2698 - accuracy: 0.9217\n",
      "Epoch 3/10\n",
      "235/235 [==============================] - 6s 26ms/step - loss: 0.1894 - accuracy: 0.9445\n",
      "Epoch 4/10\n",
      "235/235 [==============================] - 6s 26ms/step - loss: 0.1445 - accuracy: 0.9576\n",
      "Epoch 5/10\n",
      "235/235 [==============================] - 6s 25ms/step - loss: 0.1145 - accuracy: 0.9665\n",
      "Epoch 6/10\n",
      "235/235 [==============================] - 6s 24ms/step - loss: 0.0966 - accuracy: 0.9707\n",
      "Epoch 7/10\n",
      "235/235 [==============================] - 6s 25ms/step - loss: 0.0879 - accuracy: 0.9739\n",
      "Epoch 8/10\n",
      "235/235 [==============================] - 6s 25ms/step - loss: 0.0754 - accuracy: 0.9779\n",
      "Epoch 9/10\n",
      "235/235 [==============================] - 6s 25ms/step - loss: 0.0682 - accuracy: 0.9801\n",
      "Epoch 10/10\n",
      "235/235 [==============================] - 6s 26ms/step - loss: 0.0616 - accuracy: 0.9825\n"
     ]
    }
   ],
   "source": [
    "hist = model.fit(x_train, y_train, batch_size=256, epochs=10, verbose=1)"
   ]
  },
  {
   "cell_type": "code",
   "execution_count": 21,
   "id": "dietary-warrior",
   "metadata": {},
   "outputs": [
    {
     "data": {
      "image/png": "[encoded data removed]",
      "text/plain": [
       "<Figure size 432x288 with 1 Axes>"
      ]
     },
     "metadata": {
      "needs_background": "light"
     },
     "output_type": "display_data"
    }
   ],
   "source": [
    "# loss 그래프 그리기\n",
    "plt.plot(hist.history['loss'])\n",
    "plt.ylabel('loss')\n",
    "plt.xlabel('epoch')\n",
    "plt.legend(['loss'])\n",
    "plt.show()"
   ]
  },
  {
   "cell_type": "code",
   "execution_count": 22,
   "id": "loaded-heading",
   "metadata": {},
   "outputs": [
    {
     "data": {
      "image/png": "[encoded data removed]",
      "text/plain": [
       "<Figure size 432x288 with 1 Axes>"
      ]
     },
     "metadata": {
      "needs_background": "light"
     },
     "output_type": "display_data"
    }
   ],
   "source": [
    "# 정확도 그래프 그리기\n",
    "plt.plot(hist.history['accuracy'])\n",
    "plt.ylabel('accuracy')\n",
    "plt.xlabel('epoch')\n",
    "plt.legend(['accuracy'])\n",
    "plt.show()"
   ]
  }
 ],
 "metadata": {
  "kernelspec": {
   "display_name": "Python 3",
   "language": "python",
   "name": "python3"
  },
  "language_info": {
   "codemirror_mode": {
    "name": "ipython",
    "version": 3
   },
   "file_extension": ".py",
   "mimetype": "text/x-python",
   "name": "python",
   "nbconvert_exporter": "python",
   "pygments_lexer": "ipython3",
   "version": "3.8.2"
  }
 },
 "nbformat": 4,
 "nbformat_minor": 5
}
